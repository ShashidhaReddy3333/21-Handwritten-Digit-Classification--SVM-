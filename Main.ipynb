{
 "cells": [
  {
   "cell_type": "code",
   "execution_count": 8,
   "id": "862a9607",
   "metadata": {},
   "outputs": [],
   "source": [
    "#!/usr/bin/env python\n",
    "# mnist_idx_svm.py  –  Full MNIST workflow from raw IDX files\n",
    "# -----------------------------------------------------------\n",
    "import struct, pathlib, time\n",
    "import numpy as np\n",
    "import matplotlib.pyplot as plt\n",
    "import pandas as pd\n",
    "from sklearn.model_selection import StratifiedKFold, GridSearchCV\n",
    "from sklearn.preprocessing import StandardScaler\n",
    "from sklearn.pipeline import Pipeline\n",
    "from sklearn.decomposition import PCA\n",
    "from sklearn.svm import SVC\n",
    "from sklearn.neighbors import KNeighborsClassifier\n",
    "from sklearn.linear_model import LogisticRegression\n",
    "from sklearn.metrics import (\n",
    "    \n",
    "    accuracy_score, classification_report,\n",
    "    ConfusionMatrixDisplay\n",
    ")\n",
    "from joblib import dump"
   ]
  },
  {
   "cell_type": "code",
   "execution_count": 9,
   "id": "aa44eef3",
   "metadata": {},
   "outputs": [
    {
     "name": "stdout",
     "output_type": "stream",
     "text": [
      "Shapes → train: (60000, 28, 28) / (60000,), test:  (10000, 28, 28) / (10000,)\n"
     ]
    }
   ],
   "source": [
    "import struct,numpy as np\n",
    "from pathlib import Path \n",
    "\n",
    "def read_idx(path: pathlib.Path) -> np.ndarray:\n",
    "    \"\"\"\n",
    "    Read an IDX file (MNIST format) and return it as a NumPy array.\n",
    "    Works for both images (*.idx3-ubyte) and labels (*.idx1-ubyte).\n",
    "    \"\"\"\n",
    "    with path.open(\"rb\") as f:\n",
    "        magic = int.from_bytes(f.read(4), \"big\")\n",
    "        ndim  = magic & 0xFF                   # lower byte has #dims\n",
    "        shape = tuple(int.from_bytes(f.read(4), \"big\") for _ in range(ndim))\n",
    "        data  = np.frombuffer(f.read(), dtype=np.uint8)\n",
    "    return data.reshape(shape)\n",
    "\n",
    "\n",
    "DATA_DIR = Path(r\"C:\\Users\\Owner\\Desktop\\Projects\\21-Handwritten Digit Classification (SVM)\\data\")\n",
    "\n",
    "\n",
    "train_images = read_idx(DATA_DIR / \"train-images.idx3-ubyte\")  # (60000, 28, 28)\n",
    "train_labels = read_idx(DATA_DIR / \"train-labels.idx1-ubyte\")  # (60000,)\n",
    "test_images  = read_idx(DATA_DIR / \"t10k-images.idx3-ubyte\")   # (10000, 28, 28)\n",
    "test_labels  = read_idx(DATA_DIR / \"t10k-labels.idx1-ubyte\")   # (10000,)\n",
    "\n",
    "print(\"Shapes →\",\n",
    "      f\"train: {train_images.shape} / {train_labels.shape},\",\n",
    "      f\"test:  {test_images.shape} / {test_labels.shape}\")\n",
    "\n",
    "# Flatten 28×28 images → 784-D vectors\n",
    "X_train = train_images.reshape(-1, 28*28).astype(np.float32)\n",
    "y_train = train_labels.astype(np.int8)\n",
    "X_test  = test_images.reshape(-1, 28*28).astype(np.float32)\n",
    "y_test  = test_labels.astype(np.int8)"
   ]
  },
  {
   "cell_type": "code",
   "execution_count": 10,
   "id": "e3801d25",
   "metadata": {},
   "outputs": [],
   "source": [
    "# 3. RBF-SVM pipeline + hyper-parameter search ---------------------\n",
    "pipe = Pipeline([\n",
    "    (\"scaler\", StandardScaler()),          # zero-mean / unit-var\n",
    "    # Un-comment PCA to cut fit time ~8× with ≈0.2 pp loss in accuracy\n",
    "    # (\"pca\",    PCA(0.95, whiten=True, random_state=42)),\n",
    "    (\"svc\",    SVC(kernel=\"rbf\"))\n",
    "])"
   ]
  },
  {
   "cell_type": "code",
   "execution_count": 22,
   "id": "750ea9f4",
   "metadata": {},
   "outputs": [
    {
     "name": "stdout",
     "output_type": "stream",
     "text": [
      "\n",
      "— Grid-searching RBF-SVM (this can take a few minutes)…\n",
      "Fitting 2 folds for each of 12 candidates, totalling 24 fits\n",
      "Grid search done in 46.1 min\n",
      "Best CV accuracy: 0.96495\n",
      "Best params: {'svc__C': 10, 'svc__gamma': 0.001}\n"
     ]
    }
   ],
   "source": [
    "param_grid = {\n",
    "    \"svc__C\":     [1, 5, 10, 50],\n",
    "    \"svc__gamma\": [1e-3, 5e-4, 1e-4]\n",
    "}\n",
    "\n",
    "cv = StratifiedKFold(n_splits=2, shuffle=True, random_state=42)\n",
    "\n",
    "print(\"\\n— Grid-searching RBF-SVM (this can take a few minutes)…\")\n",
    "t0 = time.time()\n",
    "gs = GridSearchCV(pipe, param_grid, cv=cv,\n",
    "                  n_jobs=-1, verbose=2, scoring=\"accuracy\")\n",
    "gs.fit(X_train, y_train)\n",
    "print(f\"Grid search done in {(time.time()-t0)/60:.1f} min\")\n",
    "\n",
    "print(\"Best CV accuracy:\", gs.best_score_)\n",
    "print(\"Best params:\", gs.best_params_)\n",
    "\n",
    "best_svm = gs.best_estimator_"
   ]
  },
  {
   "cell_type": "code",
   "execution_count": 24,
   "id": "6f3a2df4",
   "metadata": {},
   "outputs": [
    {
     "name": "stdout",
     "output_type": "stream",
     "text": [
      "\n",
      "Test accuracy: 0.9733\n",
      "              precision    recall  f1-score   support\n",
      "\n",
      "           0     0.9827    0.9878    0.9852       980\n",
      "           1     0.9860    0.9938    0.9899      1135\n",
      "           2     0.9681    0.9700    0.9690      1032\n",
      "           3     0.9743    0.9752    0.9748      1010\n",
      "           4     0.9735    0.9715    0.9725       982\n",
      "           5     0.9654    0.9686    0.9670       892\n",
      "           6     0.9873    0.9760    0.9816       958\n",
      "           7     0.9506    0.9728    0.9615      1028\n",
      "           8     0.9729    0.9569    0.9648       974\n",
      "           9     0.9718    0.9574    0.9646      1009\n",
      "\n",
      "    accuracy                         0.9733     10000\n",
      "   macro avg     0.9733    0.9730    0.9731     10000\n",
      "weighted avg     0.9734    0.9733    0.9733     10000\n",
      "\n"
     ]
    },
    {
     "data": {
      "image/png": "[encoded data removed]",
      "text/plain": [
       "<Figure size 640x480 with 1 Axes>"
      ]
     },
     "metadata": {},
     "output_type": "display_data"
    }
   ],
   "source": [
    "pipe.fit(X_train, y_train)\n",
    "y_pred = best_svm.predict(X_test)\n",
    "print(\"\\nTest accuracy:\", accuracy_score(y_test, y_pred))\n",
    "print(classification_report(y_test, y_pred, digits=4))\n",
    "\n",
    "ConfusionMatrixDisplay.from_predictions(\n",
    "    y_test, y_pred, cmap=\"Blues\", colorbar=False\n",
    ").ax_.set_title(\"RBF-SVM Confusion Matrix\")\n",
    "plt.tight_layout()\n",
    "plt.show()"
   ]
  },
  {
   "cell_type": "code",
   "execution_count": 21,
   "id": "1dcf7197",
   "metadata": {},
   "outputs": [
    {
     "name": "stdout",
     "output_type": "stream",
     "text": [
      "\n",
      "— Baseline models —\n",
      "k-NN (k=3)   : 0.9450\n",
      "Logistic Reg : 0.9202\n"
     ]
    }
   ],
   "source": [
    "# 5. Two quick baselines for comparison ----------------------------\n",
    "baselines = {\n",
    "    \"k-NN (k=3)\": Pipeline([\n",
    "        (\"scaler\", StandardScaler()),\n",
    "        (\"knn\",    KNeighborsClassifier(\n",
    "                       n_neighbors=5,\n",
    "                       weights=\"distance\",\n",
    "                       n_jobs=-1))\n",
    "    ]),\n",
    "    \"Logistic Reg\": Pipeline([\n",
    "        (\"scaler\", StandardScaler()),\n",
    "        (\"lr\", LogisticRegression(\n",
    "   #                  multi_class=\"multinomial\",\n",
    "   #                  solver=\"saga\",\n",
    "                     C=10, max_iter=1000,\n",
    "                     n_jobs=-1, random_state=42))\n",
    "    ])\n",
    "}\n",
    "\n",
    "print(\"\\n— Baseline models —\")\n",
    "for name, model in baselines.items():\n",
    "    model.fit(X_train, y_train)\n",
    "    acc = model.score(X_test, y_test)\n",
    "    print(f\"{name:13s}: {acc:.4f}\")\n"
   ]
  },
  {
   "cell_type": "code",
   "execution_count": 25,
   "id": "a9e26bed",
   "metadata": {},
   "outputs": [
    {
     "name": "stdout",
     "output_type": "stream",
     "text": [
      "\n",
      "Model saved → mnist_rbf_svm.joblib\n"
     ]
    }
   ],
   "source": [
    "# ------------------------------------------------------------------\n",
    "# 6. Save the tuned SVM for later use ------------------------------\n",
    "dump(best_svm, \"mnist_rbf_svm.joblib\")\n",
    "print(\"\\nModel saved → mnist_rbf_svm.joblib\")"
   ]
  }
 ],
 "metadata": {
  "kernelspec": {
   "display_name": "base",
   "language": "python",
   "name": "python3"
  },
  "language_info": {
   "codemirror_mode": {
    "name": "ipython",
    "version": 3
   },
   "file_extension": ".py",
   "mimetype": "text/x-python",
   "name": "python",
   "nbconvert_exporter": "python",
   "pygments_lexer": "ipython3",
   "version": "3.12.7"
  }
 },
 "nbformat": 4,
 "nbformat_minor": 5
}
